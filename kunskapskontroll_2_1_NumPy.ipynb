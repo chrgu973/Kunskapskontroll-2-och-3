{
 "cells": [
  {
   "cell_type": "markdown",
   "id": "dacf74e6",
   "metadata": {},
   "source": [
    "# NumPy"
   ]
  },
  {
   "cell_type": "markdown",
   "id": "01b2bf34",
   "metadata": {},
   "source": [
    "Read the links: https://numpy.org/doc/stable/user/quickstart.html  and https://numpy.org/doc/stable/user/basics.broadcasting.html  before solving the exercises. "
   ]
  },
  {
   "cell_type": "code",
   "execution_count": 325,
   "id": "1f79e4a6",
   "metadata": {},
   "outputs": [],
   "source": [
    "import numpy as np"
   ]
  },
  {
   "cell_type": "markdown",
   "id": "7dae6889",
   "metadata": {},
   "source": [
    "### Print out the dimension (number of axes), shape, size and the datatype of the matrix A."
   ]
  },
  {
   "cell_type": "code",
   "execution_count": 327,
   "id": "7b3678cd",
   "metadata": {},
   "outputs": [],
   "source": [
    "A = np.arange(1, 16).reshape(3,5)"
   ]
  },
  {
   "cell_type": "code",
   "execution_count": 329,
   "id": "31d39235",
   "metadata": {},
   "outputs": [
    {
     "name": "stdout",
     "output_type": "stream",
     "text": [
      "[[ 1  2  3  4  5]\n",
      " [ 6  7  8  9 10]\n",
      " [11 12 13 14 15]]\n",
      "Dimensions: 2\n",
      "Shape: (3, 5)\n",
      "Size: 15\n",
      "Datatype: <class 'numpy.ndarray'>\n"
     ]
    }
   ],
   "source": [
    "print(A)\n",
    "print(f'Dimensions: {A.ndim}')\n",
    "print(f'Shape: {A.shape}')\n",
    "print(f'Size: {A.size}')\n",
    "print(f'Datatype: {type(A)}')"
   ]
  },
  {
   "cell_type": "markdown",
   "id": "e56d2a96",
   "metadata": {},
   "source": [
    "### Do the following computations on the matrices B and C: \n",
    "* Elementwise subtraction. \n",
    "* Elementwise multiplication. \n",
    "* Matrix multiplication (by default you should use the @ operator)."
   ]
  },
  {
   "cell_type": "code",
   "execution_count": 331,
   "id": "a7053fbb",
   "metadata": {},
   "outputs": [
    {
     "name": "stdout",
     "output_type": "stream",
     "text": [
      "[[1 2 3]\n",
      " [4 5 6]\n",
      " [7 8 9]]\n",
      "\n",
      "[[2. 2. 2.]\n",
      " [2. 2. 2.]\n",
      " [2. 2. 2.]]\n"
     ]
    }
   ],
   "source": [
    "B = np.arange(1, 10).reshape(3, 3)\n",
    "C = np.ones((3, 3))*2\n",
    "\n",
    "print(B)\n",
    "print()\n",
    "print(C)"
   ]
  },
  {
   "cell_type": "code",
   "execution_count": 333,
   "id": "3cd794ae",
   "metadata": {},
   "outputs": [
    {
     "name": "stdout",
     "output_type": "stream",
     "text": [
      "[[-1.  0.  1.]\n",
      " [ 2.  3.  4.]\n",
      " [ 5.  6.  7.]] \n",
      "\n",
      "[[ 2.  4.  6.]\n",
      " [ 8. 10. 12.]\n",
      " [14. 16. 18.]] \n",
      "\n",
      "[[ 2.  4.  6.]\n",
      " [ 8. 10. 12.]\n",
      " [14. 16. 18.]] \n",
      "\n",
      "[[12. 12. 12.]\n",
      " [30. 30. 30.]\n",
      " [48. 48. 48.]] \n",
      "\n",
      "[[24. 30. 36.]\n",
      " [24. 30. 36.]\n",
      " [24. 30. 36.]] \n",
      "\n"
     ]
    }
   ],
   "source": [
    "print(B - C,'\\n')\n",
    "print(B * C,'\\n')\n",
    "print(C * B,'\\n')    # To show that elementwise multiplication is commutative \n",
    "print(B @ C,'\\n')\n",
    "print(C @ B,'\\n')    # To show that matrix multiplication is NOT commutative "
   ]
  },
  {
   "cell_type": "markdown",
   "id": "96030d53",
   "metadata": {},
   "source": [
    "### Do the following calculations on the matrix:\n",
    "* Exponentiate each number elementwise (use the np.exp function).\n",
    "\n",
    "* Calculate the minimum value in the whole matrix. \n",
    "* Calculcate the minimum value in each row. \n",
    "* Calculcate the minimum value in each column. \n",
    "\n",
    "\n",
    "* Find the index value for the minimum value in the whole matrix (hint: use np.argmin).\n",
    "* Find the index value for the minimum value in each row (hint: use np.argmin).\n",
    "\n",
    "\n",
    "* Calculate the sum for all elements.\n",
    "* Calculate the mean for each column. \n",
    "* Calculate the median for each column. "
   ]
  },
  {
   "cell_type": "code",
   "execution_count": 335,
   "id": "f8a9166b",
   "metadata": {},
   "outputs": [
    {
     "name": "stdout",
     "output_type": "stream",
     "text": [
      "[[1 2 3]\n",
      " [4 5 6]\n",
      " [7 8 9]]\n"
     ]
    }
   ],
   "source": [
    "B = np.arange(1, 10).reshape(3, 3)\n",
    "print(B)"
   ]
  },
  {
   "cell_type": "code",
   "execution_count": 337,
   "id": "f03f24f7",
   "metadata": {},
   "outputs": [
    {
     "name": "stdout",
     "output_type": "stream",
     "text": [
      "[[2.71828183e+00 7.38905610e+00 2.00855369e+01]\n",
      " [5.45981500e+01 1.48413159e+02 4.03428793e+02]\n",
      " [1.09663316e+03 2.98095799e+03 8.10308393e+03]]\n",
      "1\n",
      "[1 4 7]\n",
      "[1 2 3]\n",
      "0\n",
      "[0 0 0]\n",
      "45\n",
      "[4. 5. 6.]\n",
      "[4. 5. 6.]\n"
     ]
    }
   ],
   "source": [
    "print(np.exp(B))\n",
    "print(B.min())\n",
    "print(B.min(axis=1))\n",
    "print(B.min(axis=0))\n",
    "print(np.argmin(B))\n",
    "print(np.argmin(B,axis=1))\n",
    "print(B.sum())\n",
    "print(B.mean(axis=0))\n",
    "print(np.median(B,axis=0))"
   ]
  },
  {
   "cell_type": "markdown",
   "id": "541eb7ba",
   "metadata": {},
   "source": [
    "### What does it mean when you provide fewer indices than axes when slicing? See example below."
   ]
  },
  {
   "cell_type": "code",
   "execution_count": 339,
   "id": "9c8abf56",
   "metadata": {},
   "outputs": [
    {
     "name": "stdout",
     "output_type": "stream",
     "text": [
      "[[ 1  2  3  4  5]\n",
      " [ 6  7  8  9 10]\n",
      " [11 12 13 14 15]]\n"
     ]
    }
   ],
   "source": [
    "print(A)"
   ]
  },
  {
   "cell_type": "code",
   "execution_count": 341,
   "id": "69415f7b",
   "metadata": {},
   "outputs": [
    {
     "data": {
      "text/plain": [
       "array([ 6,  7,  8,  9, 10])"
      ]
     },
     "execution_count": 341,
     "metadata": {},
     "output_type": "execute_result"
    }
   ],
   "source": [
    "A[1]"
   ]
  },
  {
   "cell_type": "markdown",
   "id": "6c53541b",
   "metadata": {},
   "source": [
    "**Answer:**"
   ]
  },
  {
   "cell_type": "markdown",
   "id": "da2aeb40-ea34-462f-8200-28ff2d2e7c92",
   "metadata": {},
   "source": [
    "Den tar alla element i den dimension som utelämnas. I detta fall tar den 2:a raden (eftersom index börjar på 0) och sedan elementen i samtliga kolumner i den raden. Kan även skrivas A[1,:] där då : visar alla element. För att få alla elemen i andra kolumnen istället kan man skriva A[:,1]"
   ]
  },
  {
   "cell_type": "markdown",
   "id": "6652d0c9",
   "metadata": {},
   "source": [
    "### Iterating over multidimensional arrays is done with respect to the first axis, so in the example below we iterate trough the rows. If you would like to iterate through the array *elementwise*, how would you do that?"
   ]
  },
  {
   "cell_type": "code",
   "execution_count": 343,
   "id": "9459864f",
   "metadata": {},
   "outputs": [
    {
     "data": {
      "text/plain": [
       "array([[ 1,  2,  3,  4,  5],\n",
       "       [ 6,  7,  8,  9, 10],\n",
       "       [11, 12, 13, 14, 15]])"
      ]
     },
     "execution_count": 343,
     "metadata": {},
     "output_type": "execute_result"
    }
   ],
   "source": [
    "A"
   ]
  },
  {
   "cell_type": "code",
   "execution_count": 345,
   "id": "a671bb5a",
   "metadata": {},
   "outputs": [
    {
     "name": "stdout",
     "output_type": "stream",
     "text": [
      "[1 2 3 4 5]\n",
      "[ 6  7  8  9 10]\n",
      "[11 12 13 14 15]\n"
     ]
    }
   ],
   "source": [
    "for i in A:\n",
    "    print(i)"
   ]
  },
  {
   "cell_type": "code",
   "execution_count": 347,
   "id": "f4e443a0",
   "metadata": {},
   "outputs": [
    {
     "name": "stdout",
     "output_type": "stream",
     "text": [
      "1\n",
      "2\n",
      "3\n",
      "4\n",
      "5\n",
      "6\n",
      "7\n",
      "8\n",
      "9\n",
      "10\n",
      "11\n",
      "12\n",
      "13\n",
      "14\n",
      "15\n"
     ]
    }
   ],
   "source": [
    "for i in np.nditer(A):\n",
    "    print(i)"
   ]
  },
  {
   "cell_type": "markdown",
   "id": "608a2583",
   "metadata": {},
   "source": [
    "### Explain what the code below does. More specifically, b has three axes - what does this mean? "
   ]
  },
  {
   "cell_type": "code",
   "execution_count": 349,
   "id": "f8f9b26f",
   "metadata": {},
   "outputs": [
    {
     "name": "stdout",
     "output_type": "stream",
     "text": [
      "[ 0  1  2  3  4  5  6  7  8  9 10 11 12 13 14 15 16 17 18 19 20 21 22 23\n",
      " 24 25 26 27 28 29]\n",
      "\n",
      "[[[ 0  1  2  3  4]\n",
      "  [ 5  6  7  8  9]\n",
      "  [10 11 12 13 14]]\n",
      "\n",
      " [[15 16 17 18 19]\n",
      "  [20 21 22 23 24]\n",
      "  [25 26 27 28 29]]]\n"
     ]
    }
   ],
   "source": [
    "a = np.arange(30)\n",
    "b = a.reshape((2, 3, -1))\n",
    "print(a)\n",
    "print()\n",
    "\n",
    "print(b)"
   ]
  },
  {
   "cell_type": "markdown",
   "id": "d4a9363a-23e0-4429-8952-81ce6b9a3c68",
   "metadata": {},
   "source": [
    "Först skapas en radvektor (a) med 30 element i nummerföljd från 0 till 29. Sedan skapas en tensor av ordning 3 (b) genom att omforma (a). Det blir lite slarvigt uttryckt en matris i 3 dimensioner - 2 rader, 3 kolumner och 2 i ytterligare en riktning (vi kan se det som djupet i ett rätblock). "
   ]
  },
  {
   "cell_type": "code",
   "execution_count": null,
   "id": "eed38bbb-dd20-4d23-837f-679aa3d3a067",
   "metadata": {},
   "outputs": [],
   "source": []
  },
  {
   "cell_type": "markdown",
   "id": "421c9607-819a-401d-949a-97424436fe29",
   "metadata": {},
   "source": [
    "# For the exercises below, read the document *\"matematik_yh_antonio_vektorer_matriser_utdrag\"*\n",
    "# Solutions to the exercises and recorded videos can be found here: https://github.com/AntonioPrgomet/matematik_foer_yh\n",
    "\n",
    "# If you find the exercises below very hard, do not worry. Try your best, that will be enough. "
   ]
  },
  {
   "cell_type": "markdown",
   "id": "ab5933d5",
   "metadata": {},
   "source": [
    "### Broadcasting\n",
    "**Read the following link about broadcasting: https://numpy.org/doc/stable/user/basics.broadcasting.html#basics-broadcasting**"
   ]
  },
  {
   "cell_type": "markdown",
   "id": "039805ba",
   "metadata": {},
   "source": [
    "# Remark on Broadcasting when doing Linear Algebra calculations in Python. "
   ]
  },
  {
   "cell_type": "markdown",
   "id": "c4bcc147",
   "metadata": {},
   "source": [
    "### From the mathematical rules of matrix addition, the operation below (m1 + m2) does not make sense. The reason is that matrix addition requires two matrices of the same size. In Python however, it works due to broadcasting rules in NumPy. So you must be careful when doing Linear Algebra calculations in Python since they do not follow the \"mathematical rules\". This can however easily be handled by doing some simple programming, for example validating that two matrices have the same shape is easy if you for instance want to add two matrices. "
   ]
  },
  {
   "cell_type": "code",
   "execution_count": 351,
   "id": "1fd46778",
   "metadata": {},
   "outputs": [
    {
     "name": "stdout",
     "output_type": "stream",
     "text": [
      "[[2 3]\n",
      " [4 5]]\n"
     ]
    }
   ],
   "source": [
    "m1 = np.array([[1, 2], [3, 4]])\n",
    "m2 = np.array([1, 1])\n",
    "print(m1 + m2)"
   ]
  },
  {
   "cell_type": "markdown",
   "id": "047d6576",
   "metadata": {},
   "source": [
    "### The example below would also not be allowed if following the \"mathematical rules\" in Linear Algebra. But it works due to broadcasting in NumPy. "
   ]
  },
  {
   "cell_type": "code",
   "execution_count": 353,
   "id": "5e6ef2e4",
   "metadata": {},
   "outputs": [
    {
     "name": "stdout",
     "output_type": "stream",
     "text": [
      "[2 3 4]\n"
     ]
    }
   ],
   "source": [
    "v1 = np.array([1, 2, 3])\n",
    "print(v1 + 1)"
   ]
  },
  {
   "cell_type": "code",
   "execution_count": 355,
   "id": "e2cbae26",
   "metadata": {},
   "outputs": [
    {
     "name": "stdout",
     "output_type": "stream",
     "text": [
      "[[1 2]\n",
      " [3 4]]\n",
      "[2 2]\n"
     ]
    }
   ],
   "source": [
    "A = np.arange(1, 5).reshape(2,2)\n",
    "print(A)\n",
    "\n",
    "b = np.array([2, 2])\n",
    "print(b)"
   ]
  },
  {
   "cell_type": "markdown",
   "id": "722fd5cd",
   "metadata": {},
   "source": [
    "# Vector- and matrix algebra Exercises"
   ]
  },
  {
   "cell_type": "markdown",
   "id": "b63a3081-d976-4d9f-bfd0-a63917e79f7d",
   "metadata": {},
   "source": [
    "**Now you are going to create a function that can be reused every time you add or multiply matrices. The function is created so that we do the addition and multiplication according to the rules of vector- and matrix algebra.**\n",
    "\n",
    "**Create a function \"add_mult_matrices\" that takes two matrices as input arguments (validate that the input are of the type numpy.ndarray by using the isinstance function), a third argument that is either 'add' or 'multiply' that specifies if you want to add or multiply the matrices (validate that the third argument is either 'add' or 'multiply'). When doing matrix addition, validate that the matrices have the same size. When doing matrix multiplication, validate that the sizes conform (i.e. number of columns in the first matrix is equal to the number of rows in the second matrix).**"
   ]
  },
  {
   "cell_type": "code",
   "execution_count": 357,
   "id": "3506f977-ac0a-473f-85bc-eec9f35dc498",
   "metadata": {},
   "outputs": [],
   "source": [
    "def add_mult_matrices(A, B, operation):\n",
    "    # Ensure both inputs are NumPy arrays\n",
    "    if not (isinstance(A, np.ndarray) and isinstance(B, np.ndarray)):\n",
    "        raise TypeError('Only NumPy arrays are allowed')\n",
    "\n",
    "    # Ensure the operation is a string\n",
    "    if not isinstance(operation, str):\n",
    "        raise ValueError('Operation must be a string')\n",
    "\n",
    "    # Handle Matrix addition\n",
    "    if operation.lower() == 'add':\n",
    "        if A.shape != B.shape:\n",
    "            raise ValueError('The dimensions of the arrays must match for addition')\n",
    "        return A + B\n",
    "\n",
    "    # Handle Matrix multiplication \n",
    "    elif operation.lower() == 'multiply':\n",
    "        if A.ndim == 1:\n",
    "            A = A.reshape(1, -1)    # Convert a 1D matrix to 2D because multiplication isn't defined for 1D matrices\n",
    "\n",
    "        if B.ndim == 1:\n",
    "            B = B.reshape(1, -1)    # Convert a 1D matrix to 2D because multiplication isn't defined for 1D matrices\n",
    "\n",
    "        if A.shape[1] != B.shape[0]:\n",
    "            raise ValueError('The number of columns in the first array mut match match the number of rows in the second array')\n",
    "        return A @ B\n",
    "    else:\n",
    "        raise ValueError('Invalid operation. Only \"add\" and \"multiply\" are allowed')"
   ]
  },
  {
   "cell_type": "markdown",
   "id": "8dad82d0-2359-4dff-8f5b-a57d3e34103c",
   "metadata": {},
   "source": [
    "### Solve all the exercises in chapter 10.1 in the book \"Matematik för yrkeshögskolan\". "
   ]
  },
  {
   "cell_type": "code",
   "execution_count": 359,
   "id": "89df88af-3668-4d98-a0a4-e6d92eea0f89",
   "metadata": {},
   "outputs": [
    {
     "name": "stdout",
     "output_type": "stream",
     "text": [
      "Uppgift 10.1.1\n",
      "a) (1, 2)\n",
      "b) [[20 15]]\n",
      "c) [[12  9]]\n",
      "d) [[32 24]]\n",
      "e) [[32 24]]\n",
      "f) [[12  9]]\n",
      "g) [[4]\n",
      " [3]]\n",
      "dimension (2, 1)\n",
      "h) Nej, eftersom dimensionerna hos de två vektorerna inte matchar\n",
      "i) 5.0\n",
      "\n",
      " Uppgift 10.1.2\n",
      "a) (4, 1)\n",
      "b) [[ 6]\n",
      " [14]\n",
      " [ 0]\n",
      " [22]]\n",
      "c) [[21]\n",
      " [49]\n",
      " [ 0]\n",
      " [77]]\n",
      "d) [[ 6]\n",
      " [14]\n",
      " [ 0]\n",
      " [22]]\n",
      "e) [[ 3  7  0 11]]\n",
      "dimension (1, 4)\n",
      "f) 13.379088160259652\n",
      "\n",
      " Uppgift 10.1.3\n",
      "a) 7.14142842854285\n",
      "a) 4.47213595499958\n"
     ]
    }
   ],
   "source": [
    "print('Uppgift 10.1.1')\n",
    "x = np.array([[4, 3]])\n",
    "print(f'a) {x.shape}')\n",
    "print(f'b) {5 * x}')\n",
    "print(f'c) {3 * x}')\n",
    "print(f'd) {5*x + 3*x}')\n",
    "print(f'e) {8 * x}')\n",
    "print(f'f) {4*x - x}')\n",
    "print(f'g) {x.T}')\n",
    "print(f'dimension {x.T.shape}')\n",
    "print('h) Nej, eftersom dimensionerna hos de två vektorerna inte matchar')\n",
    "print(f'i) {np.linalg.norm(x)}')         # Det går också med t.ex. np.sqrt(np.sum(x ** 2))\n",
    "\n",
    "print('\\n Uppgift 10.1.2')\n",
    "v = np.array([[3],[7],[0],[11]])\n",
    "print(f'a) {v.shape}')\n",
    "print(f'b) {2 * v}')\n",
    "print(f'c) {5*v + 2*v}')\n",
    "print(f'd) {4*v - 2*v}')\n",
    "print(f'e) {v.T}')\n",
    "print(f'dimension {v.T.shape}')\n",
    "print(f'f) {np.linalg.norm(v)}')\n",
    "\n",
    "print('\\n Uppgift 10.1.3')\n",
    "v1 = np.array([[4, 3, 1, 5]])\n",
    "v2 = np.array([[2, 3, 1, 1]])\n",
    "print(f'a) {np.linalg.norm(v1)}')\n",
    "print(f'a) {np.linalg.norm(v1 - v2)}')\n",
    "\n",
    "\n"
   ]
  },
  {
   "cell_type": "markdown",
   "id": "75c98984-1f88-4df1-b850-d2466de444a5",
   "metadata": {},
   "source": [
    "### Solve all the exercises, except 10.2.4, in chapter 10.2 in the book \"Matematik för yrkeshögskolan\". "
   ]
  },
  {
   "cell_type": "code",
   "execution_count": 361,
   "id": "65371610-16e1-48b2-b7fb-65e49002608a",
   "metadata": {},
   "outputs": [
    {
     "name": "stdout",
     "output_type": "stream",
     "text": [
      "Uppgift 10.2.1\n",
      "a) [[ 4  2 -2]\n",
      " [ 2 -2  2]]\n",
      "b) [[ 0 -4  3]\n",
      " [ 0 -2 -4]]\n",
      "c) Ej definierat ty dimensionerna på C och E är icke lika\n",
      "d) [[3 2]\n",
      " [2 3]]\n",
      "e) [[ 9 12]\n",
      " [12  9]]\n",
      "f) [[-4 -4]\n",
      " [-4 -4]]\n",
      "g) Ej definierat ty när A transponeras ändras dess dimensioner och matchar då inte B:s\n",
      "h) Ej definierat ty antal kolumner i A (3 st) är ej lika med antal rader i C (2 st)\n",
      "i) [[11 10]\n",
      " [10 11]]\n",
      "j) [[  8 -10  -3]\n",
      " [ 10  -8   0]]\n",
      "i) [[1 2]\n",
      " [2 1]]\n",
      "i) [[5 2]\n",
      " [7 4]]\n",
      "\n",
      " Uppgift 10.2.2\n",
      "a) [[29 26]\n",
      " [26 42]]\n",
      "\n",
      " Uppgift 10.2.3\n",
      "AB = \n",
      " [[ 4  7]\n",
      " [ 8 14]]\n",
      "AC = \n",
      " [[ 4  7]\n",
      " [ 8 14]]\n",
      "AB = AC\n",
      "B != C\n"
     ]
    }
   ],
   "source": [
    "print('Uppgift 10.2.1')\n",
    "A = np.array([[2, 1, -1], [1, -1, 1]])\n",
    "B = np.array([[4, -2, 1], [2, -4, -2]])\n",
    "C = np.array([[1, 2], [2, 1]])\n",
    "D = np.array([[3, 4], [4, 3]])\n",
    "E = np.array([[1], [2]])\n",
    "I = np.array([[1, 0], [0, 1]])\n",
    "\n",
    "print(f'a) {2 * A}')\n",
    "print(f'b) {B - 2*A}')\n",
    "print(f'c) Ej definierat ty dimensionerna på C och E är icke lika')\n",
    "print(f'd) {2*D - 3*C}')\n",
    "print(f'e) {D.T + 2*D}')\n",
    "print(f'f) {2*C.T - 2*D.T}')\n",
    "print(f'g) Ej definierat ty när A transponeras ändras dess dimensioner och matchar då inte B:s')\n",
    "print(f'h) Ej definierat ty antal kolumner i A (3 st) är ej lika med antal rader i C (2 st)')\n",
    "print(f'i) {add_mult_matrices(C, D, 'multiply')}')\n",
    "print(f'j) {add_mult_matrices(C, B, 'multiply')}')\n",
    "print(f'i) {add_mult_matrices(C, I, 'multiply')}')\n",
    "print(f'i) {add_mult_matrices(A, B.T, 'multiply')}')\n",
    "\n",
    "print('\\n Uppgift 10.2.2')\n",
    "A = np.array([[2, 3, 4], [5, 4, 1]])\n",
    "print(f'a) {add_mult_matrices(A, A.T, 'multiply')}')\n",
    "\n",
    "print('\\n Uppgift 10.2.3')\n",
    "A = np.array([[1, 2], [2, 4]]) \n",
    "B = np.array([[2, 1], [1, 3]])\n",
    "C = np.array([[4, 3], [0, 2]])\n",
    "print(f'AB = \\n {add_mult_matrices(A, B, 'multiply')}')\n",
    "print(f'AC = \\n {add_mult_matrices(A, C, 'multiply')}')\n",
    "\n",
    "if np.all(add_mult_matrices(A, B, 'multiply') == add_mult_matrices(A, C, 'multiply')):\n",
    "    print('AB = AC')\n",
    "else:\n",
    "    print('AB != AC')\n",
    "\n",
    "if np.all(B == C):\n",
    "    print('AB = AC')\n",
    "else:\n",
    "    print('B != C')"
   ]
  },
  {
   "cell_type": "markdown",
   "id": "6a4a524f",
   "metadata": {},
   "source": [
    "### Copies and Views\n",
    "Read the following link: https://numpy.org/doc/stable/user/basics.copies.html"
   ]
  },
  {
   "cell_type": "markdown",
   "id": "6cbbeaf7",
   "metadata": {},
   "source": [
    "**Basic indexing creates a view, How can you check if v1 and v2 is a view or copy? If you change the last element in v2 to 123, will the last element in v1 be changed? Why?**"
   ]
  },
  {
   "cell_type": "code",
   "execution_count": 363,
   "id": "5b9ef4df",
   "metadata": {},
   "outputs": [
    {
     "name": "stdout",
     "output_type": "stream",
     "text": [
      "[0 1 2 3]\n",
      "[2 3]\n"
     ]
    }
   ],
   "source": [
    "v1 = np.arange(4)\n",
    "v2 = v1[-2:]\n",
    "print(v1)\n",
    "print(v2)"
   ]
  },
  {
   "cell_type": "code",
   "execution_count": 365,
   "id": "d2440489",
   "metadata": {},
   "outputs": [
    {
     "name": "stdout",
     "output_type": "stream",
     "text": [
      "None\n",
      "[0 1 2 3]\n"
     ]
    }
   ],
   "source": [
    "# The base attribute of a view returns the original array while it returns None for a copy.\n",
    "print(v1.base)\n",
    "print(v2.base)"
   ]
  },
  {
   "cell_type": "code",
   "execution_count": 367,
   "id": "c8752807",
   "metadata": {},
   "outputs": [
    {
     "name": "stdout",
     "output_type": "stream",
     "text": [
      "[  0   1   2 123]\n",
      "[  2 123]\n"
     ]
    }
   ],
   "source": [
    "# The last element in v1 will be changed aswell since v2 is a view, meaning they share the same data buffer.\n",
    "v2[-1] = 123\n",
    "print(v1)\n",
    "print(v2)"
   ]
  },
  {
   "cell_type": "markdown",
   "id": "77b47f94-efd8-447d-8459-bed3b8e3bde0",
   "metadata": {},
   "source": [
    "You can check if an array is a view or copy with .base. It returns the copy if it is a view. If it is a copy it retuns None. \n",
    "v2 is a view of v1 so when you make changes in v1 the reflects in v2. "
   ]
  }
 ],
 "metadata": {
  "kernelspec": {
   "display_name": "Python 3 (ipykernel)",
   "language": "python",
   "name": "python3"
  },
  "language_info": {
   "codemirror_mode": {
    "name": "ipython",
    "version": 3
   },
   "file_extension": ".py",
   "mimetype": "text/x-python",
   "name": "python",
   "nbconvert_exporter": "python",
   "pygments_lexer": "ipython3",
   "version": "3.12.7"
  }
 },
 "nbformat": 4,
 "nbformat_minor": 5
}
